{
 "cells": [
  {
   "cell_type": "markdown",
   "metadata": {},
   "source": [
    "# About\n",
    "\n",
    "This notebook is just for testing that everything is in place: ollama, virtualenv, dependencies, connections..."
   ]
  },
  {
   "cell_type": "code",
   "execution_count": 1,
   "metadata": {},
   "outputs": [],
   "source": [
    "import ollama"
   ]
  },
  {
   "cell_type": "code",
   "execution_count": 2,
   "metadata": {},
   "outputs": [
    {
     "name": "stdout",
     "output_type": "stream",
     "text": [
      "The sky appears predominantly blue to us due to a phenomenon called Rayleigh scattering. As sunlight enters Earth's atmosphere, it encounters molecules and small particles that cause shorter wavelength light (blue and violet) to scatter in different directions more so than longer wavelength colors like red or yellow. Although both blue and violet light are scattered similarly by the atmospheric gases, our eyes are less sensitive to violet light due to its shorter wavelengths near ultraviolet range which is mostly absorbed by the upper atmosphere's ozone layer before reaching us on Earth’s surface; this makes the sky appear blue instead of purple or white. Moreover, Rayleigh scattering causes sunlight to be scattered as it passes through our atmosphere multiple times and results in even more light being dispersed throughout the sky while giving it a uniform bluish tone during clear days with no obstructions like clouds blocking direct sunlight from reaching us directly above at ground level. During sunrise or sunset, when we look towards the horizon where Earth’s atmosphere is thicker due to its angle relative to our line of sight (longer path through the atmosphere), scattered light can also redden because blue has been filtered out more efficiently than red wavelengths which continue on in a straight path; this creates beautiful colors at dawn or dusk.\n",
      "\n",
      "\n",
      "Please note that while these explanations simplify complex atmospheric physics to make them accessible, they still capture the essence of why we perceive our sky as blue during most clear days and time periods except for sunrise/sunset where other optical effects come into play alongside Rayleigh scattering.\n"
     ]
    }
   ],
   "source": [
    "response = ollama.chat(model='phi3', messages=[\n",
    "  {\n",
    "    'role': 'user',\n",
    "    'content': 'Why is the sky blue?',\n",
    "  },\n",
    "])\n",
    "print(response['message']['content'])"
   ]
  },
  {
   "cell_type": "code",
   "execution_count": null,
   "metadata": {},
   "outputs": [],
   "source": []
  }
 ],
 "metadata": {
  "kernelspec": {
   "display_name": "ollama_demo",
   "language": "python",
   "name": "python3"
  },
  "language_info": {
   "codemirror_mode": {
    "name": "ipython",
    "version": 3
   },
   "file_extension": ".py",
   "mimetype": "text/x-python",
   "name": "python",
   "nbconvert_exporter": "python",
   "pygments_lexer": "ipython3",
   "version": "3.11.9"
  }
 },
 "nbformat": 4,
 "nbformat_minor": 2
}
